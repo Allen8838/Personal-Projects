{
 "cells": [
  {
   "cell_type": "markdown",
   "metadata": {},
   "source": [
    "# Allen Wong Machine Learning Capstone Project"
   ]
  },
  {
   "cell_type": "markdown",
   "metadata": {},
   "source": [
    "This project is based on the Airbnb New User Bookings Kaggle Challenge (site: https://www.kaggle.com/c/airbnb-recruiting-new-user-bookings). The notebook will be divided into three parts: training set, testing set and generating output for kaggle submission. I will be performing: \n",
    "\n",
    "- Training Set\n",
    " - Data Pre-processing; \n",
    " - Training on several tree based models; \n",
    " - Tuning the hyperparameters through Grid Search and Random Search;\n",
    " - Training the optimal model\n",
    " - Identifying the 5 most important features\n",
    " - Comparing the performance of the full model and reduced model\n",
    "\n",
    "\n",
    "- Testing Set\n",
    " - Data Preprocessing;\n",
    " - Evaluating the full model against the test set\n",
    " \n",
    " \n",
    "- Submission to Kaggle"
   ]
  },
  {
   "cell_type": "markdown",
   "metadata": {},
   "source": [
    "## Training Set"
   ]
  },
  {
   "cell_type": "markdown",
   "metadata": {},
   "source": [
    "### Data Pre-Processing"
   ]
  },
  {
   "cell_type": "code",
   "execution_count": 1,
   "metadata": {
    "collapsed": true
   },
   "outputs": [],
   "source": [
    "import numpy as np\n",
    "import pandas as pd\n",
    "from time import time\n",
    "from IPython.display import display\n",
    "\n",
    "#import starting pre-processed files\n",
    "aggregated_web_sessions = pd.read_csv(\"Aggregation of web session log details 12.5.17 101pm ET (with user and time secs elapsed mapping).csv\") #processed web sessions data, further details in capstone writeup\n",
    "train_users_AWprocessed = pd.read_csv('train_users_2_AW_processed.csv') #processed train users file, e.g. deleted any users age greater than 115. further details in capstone writeup\n",
    "train_users_joined = pd.merge(train_users_AWprocessed, aggregated_web_sessions, left_on = 'user_id', right_on = 'user_id', how = 'left') #combining web sessions data with train users data\n",
    "\n",
    "#additional cleanups of pre-processed files\n",
    "del train_users_joined['timestamp_first_active'] #assumed that this field is not important as there are only one values for all users\n",
    "train_users_joined['age'].fillna(-1, inplace=True) #any users with missing age are replaced with a -1 value. The negative sign is there to help the model know that these values are completely different from all other values\n",
    "train_users_joined['first_affiliate_tracked'].fillna('missing', inplace=True) \n",
    "train_users_joined.fillna(-1, inplace=True) \n",
    "\n",
    "#write to excel and reorder so that the 15,500 users are placed on the top first. Reordered the users based on whether secs elapsed is a positive value or -1 (missing from the data)\n",
    "#writer = pd.ExcelWriter('train_users_joined(placed 15500 first)_test.xlsx') #already wrote these files when running this. showing code for illustrative purposes\n",
    "#train_users_joined.to_excel(writer,'Sheet1')\n",
    "#writer.save()\n",
    "\n",
    "#import the csv files with 15,500 users reordered\n",
    "train_users_final = pd.read_csv('train_users_joined(placed 15500 first)_test3 12.24.17 430pm ET.csv')\n",
    "\n",
    "#bring in the coordinates and distance km2 information that the 213,451 training users will all see\n",
    "train_users_final_coordinates = pd.read_csv('Countries 213451.csv')\n",
    "\n",
    "#join the 15,500 reordered users file with the Countries data\n",
    "train_users_final_join_coordinates = pd.concat([train_users_final, train_users_final_coordinates], axis=1, join='inner')\n",
    "\n",
    "\n",
    "#split the resulting data first so that the first 15500 users are separated out. The remaining data will then be shuffled and these two \n",
    "#dataframes will be joined back together \n",
    "train_users_final_1of2 = train_users_final_join_coordinates[0:15500] #first 15500 users\n",
    "train_users_final_2of2 = train_users_final_join_coordinates[15500:] #split these users out and shuffle\n",
    "\n",
    "train_users_final_2of2 = train_users_final_2of2.sample(frac=1) #shuffle this dataframe in case it needs to be shuffled. The shuffle function will be turned off later in splitting the training and test data\n",
    "\n",
    "#rejoined the two split dataframes back together\n",
    "train_users_final_after_shuffle = pd.concat([train_users_final_1of2, train_users_final_2of2])\n"
   ]
  },
  {
   "cell_type": "markdown",
   "metadata": {},
   "source": [
    "### Features & Target Label Splitting, One-Hot Encoding and Feature scaling"
   ]
  },
  {
   "cell_type": "markdown",
   "metadata": {},
   "source": [
    "The training set is almost ready at this point. All of the necessary information has been combined into one file and the users have been reordered such that only the users with web sessions activity appear first. This will be necessary when we split the data between the training set and the cross validation set; we want the data distribution of the cross validation set to be similar to the data distribution of the final test set. The following steps will get our data ready for training. "
   ]
  },
  {
   "cell_type": "code",
   "execution_count": 2,
   "metadata": {},
   "outputs": [
    {
     "name": "stdout",
     "output_type": "stream",
     "text": [
      "1144 total features after one-hot encoding.\n"
     ]
    }
   ],
   "source": [
    "#delete user_id first so that one-hot encoding does not throw a memory error\n",
    "del train_users_final_after_shuffle['user_id']\n",
    "\n",
    "# Split the data into features and target label\n",
    "country_raw = train_users_final_after_shuffle['country_destination']\n",
    "features_raw = train_users_final_after_shuffle.drop('country_destination', axis = 1)\n",
    "\n",
    "# One-hot encode features and country data\n",
    "features_one_hot = pd.get_dummies(features_raw)\n",
    "\n",
    "# Encode the 'country_raw' data to numerical values\n",
    "from sklearn.preprocessing import LabelEncoder\n",
    "le= LabelEncoder()\n",
    "le.fit(country_raw)\n",
    "country = le.transform(country_raw)\n",
    "\n",
    "# Print the number of features after one-hot encoding\n",
    "encoded = list(features_one_hot.columns)\n",
    "print(\"{} total features after one-hot encoding.\".format(len(encoded)))"
   ]
  },
  {
   "cell_type": "markdown",
   "metadata": {},
   "source": [
    "The features are currently stored as a numpy. We need to take the following additional steps to convert it from a numpy to a dataframe."
   ]
  },
  {
   "cell_type": "code",
   "execution_count": 3,
   "metadata": {
    "collapsed": true
   },
   "outputs": [],
   "source": [
    "#Get the column labels. \n",
    "columns_of_features_one_hot = features_one_hot.dtypes.index #Ref: https://stackoverflow.com/questions/24901766/python-how-to-get-column-names-from-pandas-dataframe-but-only-for-continuous\n",
    "\n",
    "index_of_features_one_hot=range(0,213451) #Get the row labels.\n",
    "\n",
    "#Ref: https://stackoverflow.com/questions/35723472/how-to-use-sklearn-fit-transform-with-pandas-and-return-dataframe-instead-of-num\n",
    "#Ref: http://scikit-learn.org/stable/auto_examples/preprocessing/plot_all_scaling.html\n",
    "#Ref: http://benalexkeen.com/feature-scaling-with-scikit-learn/\n",
    "from sklearn.preprocessing import RobustScaler\n",
    "\n",
    "features_scaled = RobustScaler().fit_transform(features_one_hot.values)\n",
    "\n",
    "features_scaled_df = pd.DataFrame(features_scaled, index=index_of_features_one_hot, columns=columns_of_features_one_hot)\n"
   ]
  },
  {
   "cell_type": "markdown",
   "metadata": {},
   "source": [
    "Finally! We are ready to split the dataset between the training and cross validation set."
   ]
  },
  {
   "cell_type": "markdown",
   "metadata": {},
   "source": [
    "### Splitting dataset between Training and Cross Validation Set"
   ]
  },
  {
   "cell_type": "code",
   "execution_count": 4,
   "metadata": {},
   "outputs": [
    {
     "name": "stdout",
     "output_type": "stream",
     "text": [
      "Training set has 170760 samples.\n",
      "Testing set has 42691 samples.\n"
     ]
    }
   ],
   "source": [
    "# Import train_test_split\n",
    "from sklearn.model_selection import train_test_split\n",
    "\n",
    "#Now that the 15,500 users with web sessions are on the top and the remaining users have been shuffled, we can call train_test_split with shuffle equals false so\n",
    "#we make sure that those 15,500 users are in the training set and the validation set has the same data distribution as the test set\n",
    "# Split the 'features' and 'income' data into training and testing sets\n",
    "X_train, X_test, y_train, y_test = train_test_split(features_scaled_df, \n",
    "                                                    country, \n",
    "                                                    test_size = 0.2, \n",
    "                                                    random_state = 0,\n",
    "                                                    shuffle = False)\n",
    "\n",
    "\n",
    "# Show the results of the split\n",
    "print(\"Training set has {} samples.\".format(X_train.shape[0]))\n",
    "print(\"Testing set has {} samples.\".format(X_test.shape[0]))"
   ]
  },
  {
   "cell_type": "markdown",
   "metadata": {},
   "source": [
    "### Training on Several Tree Based Models"
   ]
  },
  {
   "cell_type": "markdown",
   "metadata": {},
   "source": [
    "Our dataset is ready for training now!I will be applying 6 different models to the training set. They are:\n",
    " - AdaBoost \n",
    " - Bagging \n",
    " - Decision Tree\n",
    " - ExtraTrees\n",
    " - Gradient Boosting\n",
    " - Random Forest\n",
    " \n",
    "I will also be setting a timer for each of the above classifiers to get a sense of each model's efficiency."
   ]
  },
  {
   "cell_type": "code",
   "execution_count": 5,
   "metadata": {},
   "outputs": [
    {
     "name": "stdout",
     "output_type": "stream",
     "text": [
      "{'AdaBoostClassifier': [0.9141842247093165, 447.74178647994995], 'BaggingClassifier': [0.904545723784987, 5557.759644508362], 'DecisionTreeClassifier': [0.8693511814527409, 112.72081208229065], 'ExtraTreesClassifier': [0.8981451797755682, 549.6879096031189], 'GradientBoostingClassifier': [0.913931656817523, 27350.038553714752], 'RandomForestClassifier': [0.9047377244170851, 260.956650018692]}\n"
     ]
    }
   ],
   "source": [
    "import math\n",
    "\n",
    "#first define calculation for nDCG\n",
    "def calculate_nDCG(x):\n",
    "    nDCG = [] \n",
    "    for element in x:\n",
    "        nDCG.append((2 - 1)/math.log(element+1, 2))\n",
    "    return nDCG\n",
    "\n",
    "# #This line will go through each element in the maximal_value_tracking_index (which is a list that keeps track of the rank of the predictions)\n",
    "# #and compares it y_test. If a given array has the same value, then a 1 is placed into index_for_DCG, otherwise the rank of a given country in predictions (referencing the correct country from y_test)\n",
    "# #will be appended to index_for_DCG. Ideal case is an index of all 1's\n",
    "#Ref: https://stackoverflow.com/questions/6422700/how-to-get-indices-of-a-sorted-array-in-python\n",
    "#Ref: https://stackoverflow.com/questions/6193498/pythonic-way-to-find-maximum-value-and-its-index-in-a-list\n",
    "#Ref: https://stackoverflow.com/questions/5284646/rank-items-in-an-array-using-python-numpy\n",
    "#Ref: http://scikit-learn.org/stable/modules/generated/sklearn.multioutput.MultiOutputClassifier.html\n",
    "\n",
    "from sklearn.datasets import make_classification\n",
    "from sklearn.multioutput import MultiOutputClassifier\n",
    "from sklearn.ensemble import AdaBoostClassifier\n",
    "from sklearn.ensemble import BaggingClassifier\n",
    "from sklearn.tree import DecisionTreeClassifier\n",
    "from sklearn.ensemble import ExtraTreesClassifier\n",
    "from sklearn.ensemble import GradientBoostingClassifier\n",
    "from sklearn.ensemble import RandomForestClassifier\n",
    "from sklearn.utils import shuffle\n",
    "import numpy as np\n",
    "import operator\n",
    "import time \n",
    "\n",
    "#convert y_train to the appropriate dimension\n",
    "y2 = y_train\n",
    "Y = np.vstack((y_train, y2)).T\n",
    "\n",
    "clf_A = AdaBoostClassifier(n_estimators= 100, random_state=1)\n",
    "clf_B = BaggingClassifier(n_estimators= 100, random_state=1)\n",
    "clf_C = DecisionTreeClassifier(random_state=1) \n",
    "clf_D = ExtraTreesClassifier(n_estimators= 100, random_state=1)\n",
    "clf_E = GradientBoostingClassifier(n_estimators= 100, random_state=1)\n",
    "clf_F = RandomForestClassifier(n_estimators= 100, random_state=1)\n",
    "\n",
    "results = {} #create a dictionary for the results\n",
    "for clf in [clf_A, clf_B, clf_C, clf_D, clf_E, clf_F]:\n",
    "    tic = time.time()      #start the timer\n",
    "    clf_name = clf.__class__.__name__ #assign the classifier name to the clf_name variable\n",
    "    clf_specific = clf \n",
    "    \n",
    "    multi_target = MultiOutputClassifier(clf_specific, n_jobs=-1) #jobs is the number of core to use. Since it is set to -1, all cores are being used\n",
    "    multi_target.fit(X_train, Y).predict(X_train) \n",
    "    predictions = multi_target.predict_proba(X_test)[0] #this will return an array with 12 columns that predicts the probability of the new user going to each country\n",
    "    maximal_value_tracking_index =[]\n",
    "\n",
    "    for element in predictions:\n",
    "        order = element.argsort()\n",
    "        rank = order.argsort()\n",
    "        maximal_value_tracking_index.append(rank+1)\n",
    "\n",
    "    \n",
    "    index_for_DCG =[]\n",
    "    \n",
    "    i=0\n",
    "    for rank_element in maximal_value_tracking_index:\n",
    "        if rank_element[y_test[i]] == 12: #maximal probability\n",
    "            index_for_DCG.append(1)\n",
    "        else:\n",
    "            if rank_element[y_test[i]] == 1:  #1 is a special number to mean that both the prediction and true value matches. In this line, 1 means the prediction was ranked last\n",
    "                index_for_DCG.append(12)\n",
    "            else:\n",
    "                index_for_DCG.append(rank_element[y_test[i]])        \n",
    "        i=i+1\n",
    "\n",
    "    calculate_nDCG(index_for_DCG)\n",
    "    toc = time.time() #stop the timer \n",
    "    total_time = toc - tic \n",
    "    results[clf_name] = [sum(calculate_nDCG(index_for_DCG))/float(len(calculate_nDCG(index_for_DCG))), total_time]\n",
    "    \n",
    "print(results)"
   ]
  },
  {
   "cell_type": "markdown",
   "metadata": {},
   "source": [
    "Now that we know which is the best classifier, I will employ Grid Search and Random Search to find the best hyperparameters. For both search, I will be using accuracy as the scorer, since this function is already built-in and it would also give me a better sense of how the model is performing rather than the somewhat inflated nDCG score."
   ]
  },
  {
   "cell_type": "markdown",
   "metadata": {},
   "source": [
    "### Tuning the hyperparameters - Grid Search"
   ]
  },
  {
   "cell_type": "code",
   "execution_count": 6,
   "metadata": {},
   "outputs": [
    {
     "name": "stdout",
     "output_type": "stream",
     "text": [
      "\n",
      "Optimized Model\n",
      "------\n",
      "Final accuracy score on the testing data: 0.8752\n",
      "{'learning_rate': 0.8, 'n_estimators': 50}\n"
     ]
    }
   ],
   "source": [
    "# Import 'GridSearchCV', 'make_scorer', and any other necessary libraries\n",
    "\n",
    "from sklearn.model_selection import GridSearchCV\n",
    "from sklearn.metrics import make_scorer\n",
    "from sklearn.metrics import accuracy_score\n",
    "\n",
    "# Initialize the classifier\n",
    "clf = AdaBoostClassifier(random_state=1)\n",
    "\n",
    "# Parameters to tune\n",
    "parameters = {'n_estimators': [50, 200, 300, 400, 500], \n",
    "              'learning_rate': [0.2, 0.4, 0.6, 0.8, 1], \n",
    "              }\n",
    "\n",
    "# Perform grid search on the classifier using 'scorer' as the scoring method using GridSearchCV()\n",
    "grid_obj = GridSearchCV(clf, parameters, scoring='accuracy')\n",
    "\n",
    "# Fit the grid search object to the training data and find the optimal parameters using fit()\n",
    "grid_fit = grid_obj.fit(X_train, y_train)\n",
    "\n",
    "# Get the estimator\n",
    "best_clf = grid_fit.best_estimator_\n",
    "\n",
    "# Make predictions using the unoptimized and model\n",
    "best_predictions = best_clf.predict(X_test)\n",
    "\n",
    "# Report accuracy score and print the grid object with the best parameters\n",
    "print(\"\\nOptimized Model\\n------\")\n",
    "print(\"Final accuracy score on the testing data: {:.4f}\".format(accuracy_score(y_test, best_predictions)))\n",
    "print(grid_obj.best_params_)"
   ]
  },
  {
   "cell_type": "markdown",
   "metadata": {},
   "source": [
    "It's been said that Random Search is a better search than Grid Search. Let's see if the results differ."
   ]
  },
  {
   "cell_type": "markdown",
   "metadata": {},
   "source": [
    "### Tuning the hyperparameters - Random Search"
   ]
  },
  {
   "cell_type": "code",
   "execution_count": 7,
   "metadata": {},
   "outputs": [
    {
     "name": "stdout",
     "output_type": "stream",
     "text": [
      "\n",
      "Optimized Model\n",
      "------\n",
      "Final accuracy score on the testing data: 0.8752\n",
      "{'n_estimators': 50, 'learning_rate': 0.8}\n"
     ]
    }
   ],
   "source": [
    "#Import 'RandomizedSearchCV'\n",
    "from sklearn.model_selection import RandomizedSearchCV\n",
    "\n",
    "# Initialize the classifier\n",
    "clf_Rand = AdaBoostClassifier(random_state=1)\n",
    "\n",
    "# Parameters to tune\n",
    "parameters = {'n_estimators': [50, 200, 300, 400, 500], \n",
    "              'learning_rate': [0.2, 0.4, 0.6, 0.8, 1], \n",
    "              }\n",
    "\n",
    "# Perform randomized search on the classifier using 'scorer' as the scoring method using RandomizedSearchCV()\n",
    "grid_obj_Rand = RandomizedSearchCV(clf_Rand, parameters, scoring='accuracy')\n",
    "\n",
    "# Fit the grid search object to the training data and find the optimal parameters using fit()\n",
    "grid_fit_Rand = grid_obj_Rand.fit(X_train, y_train)\n",
    "\n",
    "# Get the estimator\n",
    "best_clf_Rand = grid_fit_Rand.best_estimator_\n",
    "\n",
    "# Make predictions using the optimized model\n",
    "best_predictions_Rand = best_clf_Rand.predict(X_test)\n",
    "\n",
    "# Report accuracy score and print the grid object with the best parameters\n",
    "print(\"\\nOptimized Model\\n------\")\n",
    "print(\"Final accuracy score on the testing data: {:.4f}\".format(accuracy_score(y_test, best_predictions_Rand)))\n",
    "print(grid_obj_Rand.best_params_)"
   ]
  },
  {
   "cell_type": "markdown",
   "metadata": {},
   "source": [
    "Now that we know the appropriate hyperparameters, let's run the optimal model!"
   ]
  },
  {
   "cell_type": "markdown",
   "metadata": {},
   "source": [
    "### Running the Optimal Model"
   ]
  },
  {
   "cell_type": "code",
   "execution_count": 8,
   "metadata": {},
   "outputs": [
    {
     "name": "stdout",
     "output_type": "stream",
     "text": [
      "{'AdaBoostClassifier': [0.9141609121322275, 155.86502981185913]}\n"
     ]
    }
   ],
   "source": [
    "#https://stackoverflow.com/questions/34214087/how-do-you-access-tree-depth-in-pythons-scikit-learn#Running Optimal Model\n",
    "\n",
    "from sklearn.datasets import make_classification\n",
    "from sklearn.multioutput import MultiOutputClassifier\n",
    "from sklearn.ensemble import AdaBoostClassifier\n",
    "from sklearn.utils import shuffle\n",
    "import numpy as np\n",
    "import operator\n",
    "import time \n",
    "\n",
    "#convert y_train to the appropriate dimension\n",
    "y2 = y_train\n",
    "Y = np.vstack((y_train, y2)).T\n",
    "\n",
    "clf_Optimized = AdaBoostClassifier(n_estimators=50, learning_rate=0.8, random_state=1)\n",
    "\n",
    "results = {} #create a dictionary for the results\n",
    "for clf in [clf_Optimized]:\n",
    "    tic = time.time()      #start the timer\n",
    "    clf_name = clf.__class__.__name__ #assign the classifier name to the clf_name variable\n",
    "    clf_specific = clf \n",
    "    \n",
    "    multi_target = MultiOutputClassifier(clf_specific, n_jobs=-1) #jobs is the number of core to use. Since it is set to -1, all cores are being used\n",
    "    multi_target.fit(X_train, Y).predict(X_train) \n",
    "    predictions = multi_target.predict_proba(X_test)[0] #this will return an array with 12 columns that predicts the probability of the new user going to each country\n",
    "    maximal_value_tracking_index =[]\n",
    "\n",
    "    for element in predictions:\n",
    "        order = element.argsort()\n",
    "        rank = order.argsort()\n",
    "        maximal_value_tracking_index.append(rank+1)\n",
    "\n",
    "    \n",
    "    index_for_DCG =[]\n",
    "    \n",
    "    i=0\n",
    "    for rank_element in maximal_value_tracking_index:\n",
    "        if rank_element[y_test[i]] == 12: #maximal probability\n",
    "            index_for_DCG.append(1)\n",
    "        else:\n",
    "            if rank_element[y_test[i]] == 1:  #1 is a special number to mean that both the prediction and true value matches. In this line, 1 means the prediction was ranked last\n",
    "                index_for_DCG.append(12)\n",
    "            else:\n",
    "                index_for_DCG.append(rank_element[y_test[i]])        \n",
    "        i=i+1\n",
    "\n",
    "    calculate_nDCG(index_for_DCG)\n",
    "    toc = time.time() #stop the timer \n",
    "    total_time = toc - tic \n",
    "    results[clf_name] = [sum(calculate_nDCG(index_for_DCG))/float(len(calculate_nDCG(index_for_DCG))), total_time]\n",
    "    \n",
    "print(results)"
   ]
  },
  {
   "cell_type": "markdown",
   "metadata": {},
   "source": [
    "Let's move on to see what are the top 5 most critical features of this model."
   ]
  },
  {
   "cell_type": "markdown",
   "metadata": {},
   "source": [
    "### Identifying the 5 Most Important Features"
   ]
  },
  {
   "cell_type": "code",
   "execution_count": 9,
   "metadata": {},
   "outputs": [
    {
     "data": {
      "image/png": "[encoded data removed]",
      "text/plain": [
       "<matplotlib.figure.Figure at 0x1fab384d198>"
      ]
     },
     "metadata": {},
     "output_type": "display_data"
    }
   ],
   "source": [
    "#run the optimal model\n",
    "model = AdaBoostClassifier(n_estimators=50, learning_rate=0.8, random_state=1).fit(X_train, y_train)\n",
    "\n",
    "# Extract the feature importances using .feature_importances_ \n",
    "importances = model.feature_importances_\n",
    "\n",
    "import visuals2 as vs #this file was from the finding donors project\n",
    "\n",
    "# Plot\n",
    "vs.feature_plot(importances, X_train, y_train)"
   ]
  },
  {
   "cell_type": "markdown",
   "metadata": {},
   "source": [
    "Let's get a better reading of these features. "
   ]
  },
  {
   "cell_type": "code",
   "execution_count": 10,
   "metadata": {},
   "outputs": [
    {
     "name": "stdout",
     "output_type": "stream",
     "text": [
      "['date_first_booking_monthyear_missingmissingY' 'secs_elapsed'\n",
      " 'Date_account_created_MonthYear_14-Mar'\n",
      " 'date_first_booking_monthyear_December2013Y'\n",
      " 'Date_account_created_MonthYear.1_May2014Y']\n"
     ]
    }
   ],
   "source": [
    "indices = np.argsort(importances)[::-1]\n",
    "columns = X_train.columns.values[indices[:]]\n",
    "print(columns[:5])"
   ]
  },
  {
   "cell_type": "markdown",
   "metadata": {},
   "source": [
    "Let's compare the performance of the full model against the reduced model. "
   ]
  },
  {
   "cell_type": "markdown",
   "metadata": {},
   "source": [
    "### Comparison of Full Model vs. Reduced Model"
   ]
  },
  {
   "cell_type": "code",
   "execution_count": 11,
   "metadata": {},
   "outputs": [
    {
     "name": "stdout",
     "output_type": "stream",
     "text": [
      "Final Model trained on full data\n",
      "------\n",
      "Accuracy on testing data: 0.8752\n",
      "\n",
      "Final Model trained on reduced data\n",
      "------\n",
      "Accuracy on testing data: 0.8752\n"
     ]
    }
   ],
   "source": [
    "# Reduce the feature space\n",
    "X_train_reduced = X_train[X_train.columns.values[(np.argsort(importances)[::-1])[:5]]] #from finding donors\n",
    "X_test_reduced = X_test[X_test.columns.values[(np.argsort(importances)[::-1])[:5]]] #from finding donors\n",
    "\n",
    "# Train on the \"best\" model found from random search earlier\n",
    "clf_reduced = AdaBoostClassifier(n_estimators=50, learning_rate=0.8, random_state=1).fit(X_train_reduced, y_train)\n",
    "clf_full = AdaBoostClassifier(n_estimators=50, learning_rate=0.8, random_state=1).fit(X_train, y_train)\n",
    "\n",
    "# Make new predictions\n",
    "reduced_predictions = clf_reduced.predict(X_test_reduced)\n",
    "full_predictions = clf_full.predict(X_test)\n",
    "\n",
    "print(\"Final Model trained on full data\\n------\")\n",
    "print(\"Accuracy on testing data: {:.4f}\".format(accuracy_score(y_test, full_predictions)))\n",
    "print(\"\\nFinal Model trained on reduced data\\n------\")\n",
    "print(\"Accuracy on testing data: {:.4f}\".format(accuracy_score(y_test, reduced_predictions)))\n"
   ]
  },
  {
   "cell_type": "markdown",
   "metadata": {},
   "source": [
    "Let's now turn to the test set and examine how our model will perform. "
   ]
  },
  {
   "cell_type": "markdown",
   "metadata": {},
   "source": [
    "## Test Set"
   ]
  },
  {
   "cell_type": "markdown",
   "metadata": {},
   "source": [
    "### Data Pre-processing"
   ]
  },
  {
   "cell_type": "code",
   "execution_count": 12,
   "metadata": {
    "collapsed": true
   },
   "outputs": [],
   "source": [
    "#import somewhat pre-processed test set\n",
    "test_users_AWprocessed = pd.read_csv('test_usersAW processed 12.31.17 1059am ET.csv')\n",
    "\n",
    "#similar to before, bring in the coordinates and distance km2 of destination countries\n",
    "test_users_final_coordinates = pd.read_csv('Countries 62096.csv')\n",
    "\n",
    "#join the two datasets\n",
    "test_users_final_join_coordinates = pd.concat([test_users_AWprocessed, test_users_final_coordinates], axis=1, join='inner')\n",
    "\n",
    "#both the test set and training set need to have the same number of features for the model to run. 103 features needed to be added to the test set. These dummy features have a value of 0\n",
    "test_dummy_features = pd.read_csv('103 dummy features.csv')\n",
    "\n",
    "#join all the data together\n",
    "test_users_final_join_coordinates_f = pd.concat([test_users_final_join_coordinates, test_dummy_features], axis=1, join='inner')\n",
    "\n"
   ]
  },
  {
   "cell_type": "markdown",
   "metadata": {},
   "source": [
    "### Features & Target Label Splitting, One-Hot Encoding and Feature scaling"
   ]
  },
  {
   "cell_type": "code",
   "execution_count": 13,
   "metadata": {},
   "outputs": [
    {
     "name": "stdout",
     "output_type": "stream",
     "text": [
      "1144 total features after one-hot encoding.\n"
     ]
    }
   ],
   "source": [
    "#delete the user_id to prevent it from throwing a memory error\n",
    "del test_users_final_join_coordinates_f['id']\n",
    "\n",
    "# Split the data into features and target label\n",
    "country_raw_test = test_users_final_join_coordinates_f['country_destination']\n",
    "features_raw_test = test_users_final_join_coordinates_f.drop('country_destination', axis = 1)\n",
    "\n",
    "# One-hot encode features and country data\n",
    "features_one_hot_test = pd.get_dummies(features_raw_test)\n",
    "\n",
    "# Encode the 'country_raw' data to numerical values\n",
    "from sklearn.preprocessing import LabelEncoder\n",
    "le_test= LabelEncoder()\n",
    "le_test.fit(country_raw_test)\n",
    "country_test = le.transform(country_raw_test)\n",
    "\n",
    "# Print the number of features after one-hot encoding\n",
    "encoded_test = list(features_one_hot_test.columns)\n",
    "print(\"{} total features after one-hot encoding.\".format(len(encoded_test)))"
   ]
  },
  {
   "cell_type": "code",
   "execution_count": 14,
   "metadata": {
    "collapsed": true
   },
   "outputs": [],
   "source": [
    "#Get the column labels. This is for the step where we convert the scaled numpy to a dataframe\n",
    "columns_of_features_one_hot_test = features_one_hot_test.dtypes.index #Ref: https://stackoverflow.com/questions/24901766/python-how-to-get-column-names-from-pandas-dataframe-but-only-for-continuous\n",
    "index_of_features_one_hot_test=range(0,62096) #Get the row labels. This is for the step where we convert the scaled numpy to a dataframe\n",
    "\n",
    "#Ref: https://stackoverflow.com/questions/35723472/how-to-use-sklearn-fit-transform-with-pandas-and-return-dataframe-instead-of-num\n",
    "\n",
    "features_scaled_test = RobustScaler().fit_transform(features_one_hot_test.values)\n",
    "\n",
    "features_scaled_df_test = pd.DataFrame(features_scaled_test, index=index_of_features_one_hot_test, columns=columns_of_features_one_hot_test)\n"
   ]
  },
  {
   "cell_type": "code",
   "execution_count": 15,
   "metadata": {},
   "outputs": [
    {
     "name": "stdout",
     "output_type": "stream",
     "text": [
      "Training set has 62096 samples.\n",
      "Testing set has 0 samples.\n"
     ]
    }
   ],
   "source": [
    "# Import train_test_split\n",
    "from sklearn.model_selection import train_test_split\n",
    "\n",
    "#Now that the 15,500 users with web sessions are on the top and the remaining users have been shuffled, we can call train_test_split with shuffle equals false so\n",
    "#we make sure that those 15,500 users are in the training set and the validation set has the same data distribution as the test set\n",
    "# Split the 'features' and 'income' data into training and testing sets\n",
    "X_train_t, X_test_t, y_train_t, y_test_t = train_test_split(features_scaled_df_test, \n",
    "                                                    country_test, \n",
    "                                                    test_size = 0, \n",
    "                                                    random_state = 0,\n",
    "                                                    shuffle = False)\n",
    "\n",
    "\n",
    "# Show the results of the split\n",
    "print(\"Training set has {} samples.\".format(X_train_t.shape[0]))\n",
    "print(\"Testing set has {} samples.\".format(X_test_t.shape[0]))\n"
   ]
  },
  {
   "cell_type": "code",
   "execution_count": 16,
   "metadata": {},
   "outputs": [
    {
     "name": "stdout",
     "output_type": "stream",
     "text": [
      "{'AdaBoostClassifier': [1.0, 169.42703485488892]}\n"
     ]
    }
   ],
   "source": [
    "#convert y_train to the appropriate dimension\n",
    "y2 = y_train\n",
    "Y = np.vstack((y_train, y2)).T\n",
    "\n",
    "clf_A_t = AdaBoostClassifier(n_estimators= 50, learning_rate=0.8, random_state=1)\n",
    "\n",
    "results = {} #create a dictionary for the results\n",
    "for clf in [clf_A_t]:\n",
    "    tic = time.time()      #start the timer\n",
    "    clf_name = clf.__class__.__name__ #assign the classifier name to the clf_name variable\n",
    "    clf_specific = clf \n",
    "    \n",
    "    multi_target = MultiOutputClassifier(clf_specific, n_jobs=-1) #jobs is the number of core to use. Since it is set to -1, all cores are being used\n",
    "    multi_target.fit(X_train, Y).predict(X_train) \n",
    "    predictions = multi_target.predict_proba(X_train_t)[0] #this will return an array with 12 columns that predicts the probability of the new user going to each country\n",
    "    maximal_value_tracking_index =[]\n",
    "\n",
    "    for element in predictions:\n",
    "        order = element.argsort()\n",
    "        rank = order.argsort()\n",
    "        maximal_value_tracking_index.append(rank+1)\n",
    "\n",
    "    \n",
    "    index_for_DCG =[]\n",
    "    \n",
    "    i=0\n",
    "    for rank_element in maximal_value_tracking_index:\n",
    "        if rank_element[y_train_t[i]] == 12: #maximal probability\n",
    "            index_for_DCG.append(1)\n",
    "        else:\n",
    "            if rank_element[y_train_t[i]] == 1:  #1 is a special number to mean that both the prediction and true value matches. In this line, 1 means the prediction was ranked last\n",
    "                index_for_DCG.append(12)\n",
    "            else:\n",
    "                index_for_DCG.append(rank_element[y_train_t[i]])        \n",
    "        i=i+1\n",
    "\n",
    "    calculate_nDCG(index_for_DCG)\n",
    "    toc = time.time() #stop the timer \n",
    "    total_time = toc - tic \n",
    "    results[clf_name] = [sum(calculate_nDCG(index_for_DCG))/float(len(calculate_nDCG(index_for_DCG))), total_time]\n",
    "    \n",
    "print(results)"
   ]
  },
  {
   "cell_type": "markdown",
   "metadata": {},
   "source": [
    "## Generating Output for Submission to Kaggle"
   ]
  },
  {
   "cell_type": "code",
   "execution_count": 17,
   "metadata": {
    "collapsed": true
   },
   "outputs": [],
   "source": [
    "#create the country labels\n",
    "label_spelled_out = ['AU', 'DE', 'NL', 'PT', 'IT', 'ES', 'GB', 'CA', 'FR', 'other', 'US', 'NDF']\n",
    "\n",
    "#sort the labels\n",
    "sort_label_spelled_out = sorted(label_spelled_out)\n",
    "\n",
    "#create an array with the same shape as the testing set, \n",
    "#Ref: https://stackoverflow.com/questions/1550130/cloning-row-or-column-vectors\n",
    "country_labels = np.tile(np.asarray(sort_label_spelled_out), (62096,1)) \n",
    "\n",
    "#remove \"array\" from beginning and \"dtype\" at end\n",
    "maximal_value_tracking_index = np.asarray(maximal_value_tracking_index) \n",
    "\n",
    "#for each element, in each array, assign country_labels with the value in maximal value tracking. Remember, 12 is the largest and considerd the country most likely to vist\n",
    "#Ref: https://stackoverflow.com/questions/6618515/sorting-list-based-on-values-from-another-list\n",
    "i=0\n",
    "country_labels_maximal_tracking = []\n",
    "for element in country_labels:\n",
    "    country_labels_maximal_tracking.append(list(zip(maximal_value_tracking_index[i],country_labels[i])))\n",
    "    i=i+1\n",
    "    \n",
    "#sort the labels in reverse order\n",
    "for element in country_labels_maximal_tracking:\n",
    "    element.sort(reverse=True)\n",
    "    \n",
    "#extract the country from each subarray in country_labels_maximal_tracking\n",
    "country_labels_sorted =[]\n",
    "for element in list(country_labels_maximal_tracking):\n",
    "    tracking_array = []\n",
    "    i=0\n",
    "    for sub_element in element:  \n",
    "        if i<5:                                     #keep the first 5 elements in each subarray   \n",
    "            tracking_array.append(sub_element[1])\n",
    "            i=i+1\n",
    "        else:\n",
    "            None\n",
    "    country_labels_sorted.append(tracking_array)\n",
    "    "
   ]
  },
  {
   "cell_type": "markdown",
   "metadata": {},
   "source": [
    "Final step below will extract the output above and put it into a csv file"
   ]
  },
  {
   "cell_type": "code",
   "execution_count": 18,
   "metadata": {
    "collapsed": true
   },
   "outputs": [],
   "source": [
    "writer = pd.ExcelWriter('AW_top_five_countries_robust_scaler.xlsx')\n",
    "top_five_countries = pd.DataFrame(data=country_labels_sorted) #convert index to dataframe\n",
    "top_five_countries.to_excel(writer,'Sheet1')\n",
    "writer.save()"
   ]
  },
  {
   "cell_type": "markdown",
   "metadata": {},
   "source": [
    "## Addendum"
   ]
  },
  {
   "cell_type": "markdown",
   "metadata": {},
   "source": [
    "### Benchmark Model"
   ]
  },
  {
   "cell_type": "code",
   "execution_count": 19,
   "metadata": {},
   "outputs": [
    {
     "name": "stdout",
     "output_type": "stream",
     "text": [
      "{'RandomForestClassifier': [0.8994321229560059, 50.84402871131897]}\n"
     ]
    }
   ],
   "source": [
    "#convert y_train to the appropriate dimension\n",
    "y2 = y_train\n",
    "Y = np.vstack((y_train, y2)).T\n",
    "\n",
    "clf_benchmark = RandomForestClassifier(random_state=1)\n",
    "\n",
    "results = {} #create a dictionary for the results\n",
    "for clf in [clf_benchmark]:\n",
    "    tic = time.time()      #start the timer\n",
    "    clf_name = clf.__class__.__name__ #assign the classifier name to the clf_name variable\n",
    "    clf_specific = clf \n",
    "    \n",
    "    multi_target = MultiOutputClassifier(clf_specific, n_jobs=-1) #jobs is the number of core to use. Since it is set to -1, all cores are being used\n",
    "    multi_target.fit(X_train, Y).predict(X_train) \n",
    "    predictions = multi_target.predict_proba(X_test)[0] #this will return an array with 12 columns that predicts the probability of the new user going to each country\n",
    "    maximal_value_tracking_index =[]\n",
    "\n",
    "    for element in predictions:\n",
    "        order = element.argsort()\n",
    "        rank = order.argsort()\n",
    "        maximal_value_tracking_index.append(rank+1)\n",
    "\n",
    "    \n",
    "    index_for_DCG =[]\n",
    "    \n",
    "    i=0\n",
    "    for rank_element in maximal_value_tracking_index:\n",
    "        if rank_element[y_test[i]] == 12: #maximal probability\n",
    "            index_for_DCG.append(1)\n",
    "        else:\n",
    "            if rank_element[y_test[i]] == 1:  #1 is a special number to mean that both the prediction and true value matches. In this line, 1 means the prediction was ranked last\n",
    "                index_for_DCG.append(12)\n",
    "            else:\n",
    "                index_for_DCG.append(rank_element[y_test[i]])        \n",
    "        i=i+1\n",
    "\n",
    "    calculate_nDCG(index_for_DCG)\n",
    "    toc = time.time() #stop the timer \n",
    "    total_time = toc - tic \n",
    "    results[clf_name] = [sum(calculate_nDCG(index_for_DCG))/float(len(calculate_nDCG(index_for_DCG))), total_time]\n",
    "    \n",
    "print(results)"
   ]
  }
 ],
 "metadata": {
  "kernelspec": {
   "display_name": "Python 3",
   "language": "python",
   "name": "python3"
  },
  "language_info": {
   "codemirror_mode": {
    "name": "ipython",
    "version": 3
   },
   "file_extension": ".py",
   "mimetype": "text/x-python",
   "name": "python",
   "nbconvert_exporter": "python",
   "pygments_lexer": "ipython3",
   "version": "3.6.3"
  }
 },
 "nbformat": 4,
 "nbformat_minor": 2
}
